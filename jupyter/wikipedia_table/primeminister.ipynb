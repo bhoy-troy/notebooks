{
 "cells": [
  {
   "cell_type": "markdown",
   "metadata": {
    "collapsed": true,
    "pycharm": {
     "name": "#%% md\n"
    }
   },
   "source": [
    "# Name\n",
    "\n",
    "James Troy\n",
    "\n",
    "# Set Up\n",
    "\n",
    "\n",
    "### Database\n",
    "The database schema is in a file called `setup.sql`\n",
    "\n",
    "Create the database, you can use your own database, or the docker container included. To run the docker container\n",
    "do `docker-compose up`, then `mysql -h 172.33.0.100 -u root -p  < \"create_db.sql\"`.\n",
    "\n",
    "If using an alternative database use the following command `mysql -h <host>> -u <user>> -p  < \"create_db.sql\"`\n",
    "\n",
    "    mysql -h 172.33.0.100 -u root -p  < \"create_db.sql\"\n",
    "\n",
    "### Configuration\n",
    "\n",
    "The [config.ini](config.ini) file contains database configuration, change it if you want to use some other credentials.\n",
    "\n",
    "\n",
    "### How it works\n",
    "\n",
    "#### Scraping\n",
    "There is a table module that has two classes, `PrimeMinister` & `PrimeMinisterTerms`.\n",
    "The `PrimeMinisterTerms` scrapes the main wikipedia prime ministers table and creates a matrix that reflects\n",
    "what the contents of the table is.\n",
    "\n",
    "The `PrimeMinister` retrieves data from the prime ministers personal page on wikipedia, here it extracts the\n",
    "date of birth and death if any\n",
    "\n",
    "#### Configuration\n",
    "\n",
    "The database has 5 tables, `party`, `monarch`, `prime_minister`, `prime_minister_term` and `term_monarch`.\n",
    "\n",
    "* **The default host that  points to the docker container  is `172.33.0.100`**\n",
    "* **The default username is `nutty_professor`**\n",
    "* **The default password is `scientist`**\n",
    "* **The database name is `assignment2`**\n",
    "\n",
    "***\n",
    "Please change the host for the database in [config.ini](config.ini)\n",
    "***\n",
    "\n",
    "### Getting the data\n",
    "\n",
    "Invoke the function `main()` in the core module.\n",
    "\n",
    "Alternatively run\n",
    "\n",
    "    python core.py\n",
    "\n",
    "This scrapes the data and populates the database with it.\n",
    "\n",
    "\n",
    "\n",
    "## Helper function `calculate_total_time` to calculate  years, days & months.\n",
    "### Presumptions\n",
    "* presume 365 days in a year\n",
    "* 30 days in a month\n",
    "\n",
    "***"
   ]
  },
  {
   "cell_type": "markdown",
   "metadata": {},
   "source": [
    "Some basic setup"
   ]
  },
  {
   "cell_type": "code",
   "execution_count": null,
   "metadata": {
    "pycharm": {
     "name": "#%%\n"
    }
   },
   "outputs": [],
   "source": [
    "import configparser\n",
    "import os\n",
    "from core import main, calculate_total_time\n",
    "\n",
    "from dateutil import relativedelta\n",
    "from database import MariaDBConnector\n",
    "\n",
    "config = configparser.ConfigParser()\n",
    "ini_path = os.path.join(os.getcwd(), \"config.ini\")\n",
    "config.read(ini_path)\n",
    "db_config = config[\"DATABASE\"]"
   ]
  },
  {
   "cell_type": "markdown",
   "metadata": {},
   "source": [
    "Populate the database\n"
   ]
  },
  {
   "cell_type": "code",
   "execution_count": null,
   "metadata": {
    "pycharm": {
     "name": "#%%\n"
    }
   },
   "outputs": [],
   "source": [
    "main()\n"
   ]
  },
  {
   "cell_type": "markdown",
   "metadata": {},
   "source": [
    "a) Which political party has produced the most individual prime ministers? [2]\n"
   ]
  },
  {
   "cell_type": "code",
   "execution_count": null,
   "metadata": {
    "pycharm": {
     "name": "#%%\n"
    }
   },
   "outputs": [],
   "source": [
    "with MariaDBConnector(**db_config) as cursor:\n",
    "    query = \"\"\"\n",
    "        select party_name, max(total) from\n",
    "            (select party_name, count(*) as total\n",
    "                from prime_minister\n",
    "                join party p on prime_minister.party_id = p.id\n",
    "                group by  party_name\n",
    "                order by total desc) as party_count;\n",
    "        \"\"\"\n",
    "\n",
    "    cursor.execute(query)\n",
    "    db_response = cursor.fetchall()\n",
    "\n",
    "    print(\n",
    "        f\"The party that produced the most Prime Ministers is the {db_response[-1][0]} party\"\n",
    "    )"
   ]
  },
  {
   "cell_type": "markdown",
   "metadata": {},
   "source": [
    "b) Provide a list of prime ministers who served under each monarch. [3]"
   ]
  },
  {
   "cell_type": "code",
   "execution_count": null,
   "metadata": {
    "pycharm": {
     "name": "#%%\n"
    }
   },
   "outputs": [],
   "source": [
    "with MariaDBConnector(**db_config) as cursor:\n",
    "    query = \"\"\"\n",
    "        select  m.title, pm.name from prime_minister_term\n",
    "            join term_monarch tm on prime_minister_term.id = tm.term_id\n",
    "            join monarch m on tm.monarch_id = m.id\n",
    "            join prime_minister pm on pm.id = prime_minister_term.prime_minister_id;\n",
    "    \"\"\"\n",
    "\n",
    "    cursor.execute(query)\n",
    "    db_response = cursor.fetchall()\n",
    "    monarch_pms = {}\n",
    "\n",
    "for row in db_response:\n",
    "    monarch = row[0]\n",
    "    pms = monarch_pms.get(monarch, [])\n",
    "    pms.append(row[1])\n",
    "    monarch_pms[monarch] = pms\n",
    "\n",
    "for k, v in monarch_pms.items():\n",
    "    print(f\"{k} -> {list(set(v))}\")"
   ]
  },
  {
   "cell_type": "markdown",
   "metadata": {},
   "source": [
    "(c) Which political party held the office of prime minister for the longest amount of\n",
    "overall time, and for how long (in years, months, and days)? [3]\n"
   ]
  },
  {
   "cell_type": "code",
   "execution_count": null,
   "metadata": {
    "pycharm": {
     "name": "#%%\n"
    }
   },
   "outputs": [],
   "source": [
    "query = \"\"\"\n",
    "    SELECT party_name, start_date, IFNULL(end_date, CURRENT_DATE) end_date,\n",
    "           datediff(end_date, start_date) as term_days\n",
    "    from prime_minister_term\n",
    "      join prime_minister pm on prime_minister_term.prime_minister_id = pm.id\n",
    "      join party p on pm.party_id = p.id\n",
    "      where party_name = (\n",
    "        select party_name from(\n",
    "          select party_name, max(sum_terms) from (\n",
    "            SELECT party_name, SUM(term_days) as sum_terms from (\n",
    "              SELECT party_name, start_date, IFNULL(end_date, CURRENT_DATE) end_date,\n",
    "              datediff(end_date, start_date) as term_days  \n",
    "\n",
    "              from prime_minister_term\n",
    "                join prime_minister pm on prime_minister_term.prime_minister_id = pm.id\n",
    "                join party p on pm.party_id = p.id\n",
    "        ) as t1\n",
    "        group by party_name)\n",
    "    as t2) \n",
    "as t3);\n",
    "\"\"\"\n",
    "\n",
    "with MariaDBConnector(**db_config) as cursor:\n",
    "    cursor.execute(query)\n",
    "    db_response = cursor.fetchall()\n",
    "\n",
    "deltas = {\"years\": 0, \"months\": 0, \"days\": 0, \"term_in_days\": 0}\n",
    "\n",
    "for row in db_response:\n",
    "    party = row[0]\n",
    "    start = row[1]\n",
    "    end = row[2]\n",
    "    if row[3]:\n",
    "        term_in_days = row[3]\n",
    "    else:\n",
    "        term_in_days = (date.today() - start).days\n",
    "    _delta = relativedelta.relativedelta(end, start)\n",
    "    deltas[\"years\"] += _delta.years\n",
    "    deltas[\"months\"] += _delta.months\n",
    "    deltas[\"days\"] += _delta.days\n",
    "    deltas[\"term_in_days\"] += term_in_days\n",
    "\n",
    "\n",
    "years, months, days, total_days_check = calculate_total_time(\n",
    "    deltas[\"years\"], deltas[\"months\"], deltas[\"days\"], deltas[\"term_in_days\"]\n",
    ")\n",
    "\n",
    "print(\n",
    "    f\"The {party} party held the office of prime minister \"\n",
    "    f\"for the longest amount of overall time, \"\n",
    "    f\"{years} years, {months} months and {days} days ...\"\n",
    ")"
   ]
  },
  {
   "cell_type": "markdown",
   "metadata": {
    "pycharm": {
     "name": "#%% md\n"
    }
   },
   "source": [
    "(d) Which individual politician held the office of prime minister for the longest amount\n",
    "of uninterrupted time, and for how long (in years, months, and days)? [2]"
   ]
  },
  {
   "cell_type": "code",
   "execution_count": null,
   "metadata": {
    "pycharm": {
     "name": "#%%\n"
    }
   },
   "outputs": [],
   "source": [
    "query = \"\"\"\n",
    "SELECT pm.name, start_date, IFNULL(end_date, CURRENT_DATE) end_date,\n",
    "   max(datediff(IFNULL(end_date, CURRENT_DATE), start_date) )as term_days\n",
    "from prime_minister_term\n",
    "    join prime_minister pm on pm.id = prime_minister_term.prime_minister_id;\n",
    "\"\"\"\n",
    "\n",
    "with MariaDBConnector(**db_config) as cursor:\n",
    "\n",
    "    db_response = cursor.query(query)[-1]\n",
    "name = db_response[0]\n",
    "start = db_response[1]\n",
    "end = db_response[2]\n",
    "_delta = relativedelta.relativedelta(end, start)\n",
    "years = _delta.years\n",
    "months = _delta.months\n",
    "days = _delta.days\n",
    "print(\n",
    "    f\"The individual politician that held the office of prime minister \"\n",
    "    f\"for the longest amount of uninterrupted time is \\n\"\n",
    "    f\"{name} for {years} years, {months} months, and {days} days...\"\n",
    ")"
   ]
  },
  {
   "cell_type": "markdown",
   "metadata": {
    "pycharm": {
     "name": "#%% md\n"
    }
   },
   "source": [
    "(e) Which individual politician has held the office of prime ministers for the longest\n",
    "amount of overall time? [1]\n"
   ]
  },
  {
   "cell_type": "code",
   "execution_count": null,
   "metadata": {
    "pycharm": {
     "name": "#%%\n"
    }
   },
   "outputs": [],
   "source": [
    "query = \"\"\"\n",
    "SELECT pm.name as pm_name,\n",
    "    sum(datediff(IFNULL(end_date, CURRENT_DATE), start_date)) as overall_days\n",
    "from prime_minister_term\n",
    "    join prime_minister pm on pm.id = prime_minister_term.prime_minister_id\n",
    "group by pm.id\n",
    "order by overall_days desc\n",
    "LIMIT 1;\"\"\"\n",
    "with MariaDBConnector(**db_config) as cursor:\n",
    "    cursor.execute(query)\n",
    "    db_response = cursor.fetchall()\n",
    "pm = db_response[0]\n",
    "\n",
    "name = pm[0]\n",
    "total_days = pm[-1]\n",
    "years, months, days, total_days_check = calculate_total_time(0, 0, 0, total_days)\n",
    "\n",
    "print(\n",
    "    f\"The individual politician that held the office \\n\"\n",
    "    f\"of prime minister for the longest amount of \\n\"\n",
    "    f\"uninterrupted time is \\n\"\n",
    "    f\"{name} for {years} years, {months} months, and {days} days...\"\n",
    ")"
   ]
  },
  {
   "cell_type": "markdown",
   "metadata": {
    "pycharm": {
     "name": "#%% md\n"
    }
   },
   "source": [
    "(f) Which individual politician held the office of prime minister for the shortest amount\n",
    "of overall time, and for how long (in years, months, and days)? [1]\n"
   ]
  },
  {
   "cell_type": "code",
   "execution_count": null,
   "metadata": {
    "pycharm": {
     "name": "#%%\n"
    }
   },
   "outputs": [],
   "source": [
    "query = \"\"\"\n",
    "SELECT pm.name                                                   as pm_name,\n",
    "   start_date,\n",
    "   IFNULL(end_date, CURRENT_DATE)                               end_date,\n",
    "   sum(datediff(IFNULL(end_date, CURRENT_DATE), start_date)) as overall_days\n",
    "from prime_minister_term\n",
    "         join prime_minister pm on pm.id = prime_minister_term.prime_minister_id\n",
    "group by pm.id\n",
    "order by overall_days asc\n",
    "LIMIT 1\"\"\"\n",
    "with MariaDBConnector(**db_config) as cursor:\n",
    "    cursor.execute(query)\n",
    "    db_response = cursor.fetchall()\n",
    "\n",
    "\n",
    "pm = db_response[0]\n",
    "name = pm[0]\n",
    "delta = relativedelta.relativedelta(pm[2], pm[1])\n",
    "years = delta.years\n",
    "months = delta.months\n",
    "days = delta.days\n",
    "\n",
    "\n",
    "print(\n",
    "    f\"The individual politician that held the office \\n\"\n",
    "    f\"of prime minister for the shortest amount of \\n\"\n",
    "    f\"uninterrupted time is {name} \"\n",
    "    f\"for {years} years, {months} months, and {days} days...\"\n",
    ")"
   ]
  },
  {
   "cell_type": "markdown",
   "metadata": {
    "pycharm": {
     "name": "#%% md\n"
    }
   },
   "source": [
    "(g) List the prime ministers who where either an earl, viscount, duke, or knight? [4]\n"
   ]
  },
  {
   "cell_type": "code",
   "execution_count": null,
   "metadata": {
    "pycharm": {
     "name": "#%%\n"
    }
   },
   "outputs": [],
   "source": [
    "query = \"\"\"\n",
    "select name, alias, title\n",
    "from prime_minister_term\n",
    "         join prime_minister pm on prime_minister_term.prime_minister_id = pm.id\n",
    "where not title  = ''\n",
    "group by\n",
    "pm.id\n",
    "order by name;\n",
    "\"\"\"\n",
    "with MariaDBConnector(**db_config) as cursor:\n",
    "    cursor.execute(query)\n",
    "    db_response = cursor.fetchall()\n",
    "\n",
    "for name, alias, title in db_response:\n",
    "    _title = f\"{name}, {alias}\" if title.lower() != \"knight\" else f\"{alias} {name}\"\n",
    "\n",
    "    print(_title)"
   ]
  },
  {
   "cell_type": "markdown",
   "metadata": {
    "pycharm": {
     "name": "#%% md\n"
    }
   },
   "source": [
    "What age was each prime minister on the day they assumed office? [4]\n"
   ]
  },
  {
   "cell_type": "code",
   "execution_count": null,
   "metadata": {
    "pycharm": {
     "name": "#%%\n"
    }
   },
   "outputs": [],
   "source": [
    "query = \"\"\"\n",
    "select pm.id, pm.name, birth_date, min(start_date),\n",
    "       CAST((DATE_FORMAT(FROM_DAYS( DATEDIFF(start_date,birth_date)), '%Y')+0) AS UNSIGNED ) AS age\n",
    "from prime_minister_term\n",
    "         join prime_minister pm on pm.id = prime_minister_term.prime_minister_id\n",
    "group by pm.id\n",
    "order by age desc;\n",
    "\"\"\"\n",
    "with MariaDBConnector(**db_config) as cursor:\n",
    "    cursor.execute(query)\n",
    "    db_response = cursor.fetchall()\n",
    "\n",
    "\n",
    "for pm in db_response:\n",
    "\n",
    "    print(f\"{pm[1]} was {pm[-1]} years old assuming office for the first time\")"
   ]
  },
  {
   "cell_type": "markdown",
   "metadata": {
    "pycharm": {
     "name": "#%% md\n"
    }
   },
   "source": [
    "\n",
    "On the last day of their term of office, which politician was the oldest? [1]"
   ]
  },
  {
   "cell_type": "code",
   "execution_count": null,
   "metadata": {
    "pycharm": {
     "name": "#%%\n"
    }
   },
   "outputs": [],
   "source": [
    "query = \"\"\"\n",
    "select pm.id,\n",
    "       pm.name,\n",
    "       birth_date,\n",
    "       max(IFNULL(end_date, CURRENT_DATE))                     end_date,\n",
    "       CAST((DATE_FORMAT(FROM_DAYS(DATEDIFF((IFNULL(end_date, CURRENT_DATE)), birth_date)), '%Y') +\n",
    "             0) AS UNSIGNED)                                AS age,\n",
    "\n",
    "       datediff(IFNULL(end_date, CURRENT_DATE), birth_date) as overall_days\n",
    "from prime_minister_term\n",
    "         join prime_minister pm on pm.id = prime_minister_term.prime_minister_id\n",
    "group by pm.id\n",
    "order by overall_days desc\n",
    "limit 1;\n",
    "\"\"\"\n",
    "with MariaDBConnector(**db_config) as cursor:\n",
    "    cursor.execute(query)\n",
    "    db_response = cursor.fetchall()\n",
    "\n",
    "pm = db_response[0]\n",
    "\n",
    "print(f\"{pm[1]} was {pm[4]} years old when leaving office, thats {pm[5]} days!\")"
   ]
  }
 ],
 "metadata": {
  "kernelspec": {
   "display_name": "Python 3",
   "language": "python",
   "name": "python3"
  },
  "language_info": {
   "codemirror_mode": {
    "name": "ipython",
    "version": 3
   },
   "file_extension": ".py",
   "mimetype": "text/x-python",
   "name": "python",
   "nbconvert_exporter": "python",
   "pygments_lexer": "ipython3",
   "version": "3.8.5"
  }
 },
 "nbformat": 4,
 "nbformat_minor": 1
}