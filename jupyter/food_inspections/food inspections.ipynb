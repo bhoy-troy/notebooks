{
 "cells": [
  {
   "cell_type": "markdown",
   "metadata": {
    "pycharm": {
     "name": "#%% md\n"
    }
   },
   "source": [
    "# City of Chicago Data Set\n",
    "\n",
    "### Builtin Superheroes (Screencast)\n",
    "\n",
    "Taken from David Beazley's [presentation](https://www.youtube.com/watch?v=j6VSAsKAj98)\n",
    "\n",
    "To get the file Food Inspections data file use [wget](https://linux.die.net/man/1/wget)\n",
    "\n",
    "    wget -c https://data.cityofchicago.org/api/views/4ijn-s7e5/rows.csv?accessType=DOWNLOAD -O Food_Inspections.csv\n",
    "\n",
    "or alternatively use [curl](https://linux.die.net/man/1/curl)\n",
    "\n",
    "    curl https://data.cityofchicago.org/api/views/4ijn-s7e5/rows.csv?accessType=DOWNLOAD -o Food_Inspections.csv\n",
    "\n",
    "__Sorry I don't use Windows as an OS so you'll have to figure out getting it yourself for that.__\n",
    "\n",
    "***"
   ]
  },
  {
   "cell_type": "markdown",
   "metadata": {
    "pycharm": {
     "name": "#%% md\n"
    }
   },
   "source": [
    "### Set Up\n",
    "Import the required libraries and load the data in to memory,\n",
    "each row in the file will be an element in a list.\n",
    "\n",
    "We achieve this by using Python's built in csv module.\n",
    "\n",
    "First we open the file with the __open__ function.\n",
    "The DictReader class then reads each row as a dict, using the\n",
    "first row in the file as the keys, alternatively we could\n",
    "add the __fieldnames__ arg when creating the DictReader\n",
    "instance to override the default behaviour of using the\n",
    "first line for the keys for each dict.\n",
    "\n",
    "Using the __list__ function we covert the DictReader iterator to a list of dictionaries.\n",
    "\n",
    "Whats a dictionary?\n",
    "\n",
    "Dictionaries are Python data structure's that are known in other languages as associative arrays or hash maps. A dictionary consists of a collection of key-value pairs. Each key-value pair maps the key to its associated value.\n",
    "\n",
    "\n",
    "N.B **This is a very inefficient way of representing data in Python**. A better alternative\n",
    "to use would be [pandas](https://pandas.pydata.org/).\n"
   ]
  },
  {
   "cell_type": "code",
   "execution_count": null,
   "metadata": {
    "pycharm": {
     "name": "#%%\n"
    }
   },
   "outputs": [],
   "source": [
    "import csv\n",
    "from collections import Counter, defaultdict\n",
    "food=list(csv.DictReader(open('Food_Inspections.csv')))\n"
   ]
  },
  {
   "cell_type": "markdown",
   "metadata": {},
   "source": [
    "How many items in the food list (rows in the dataset)?\n",
    "\n",
    "The **len()** function is a Python builtin function. It returns the number of elements/items in a collection."
   ]
  },
  {
   "cell_type": "code",
   "execution_count": null,
   "metadata": {
    "pycharm": {
     "name": "#%%\n"
    }
   },
   "outputs": [],
   "source": [
    "len(food)"
   ]
  },
  {
   "cell_type": "markdown",
   "metadata": {},
   "source": [
    "What are the contents of the first row?\n",
    "List Indices start at 0, so the first row will be 0\n",
    "\n",
    "The published records contain data representing things like ame, address, longitude & latitude coordinates,\n",
    "inspection type, inspection date, inspection id and most importantly for the business the results.\n",
    "\n",
    "\n",
    "Note, not all the data types have a corresponding value.\n"
   ]
  },
  {
   "cell_type": "code",
   "execution_count": null,
   "metadata": {
    "pycharm": {
     "name": "#%%\n"
    }
   },
   "outputs": [],
   "source": [
    "food[0]"
   ]
  },
  {
   "cell_type": "markdown",
   "metadata": {},
   "source": [
    "What are the contents of the second row?\n",
    "\n",
    "Again as list Indices start at 0, the n<sup>th</sup> item will be at index n-1"
   ]
  },
  {
   "cell_type": "code",
   "execution_count": null,
   "metadata": {
    "pycharm": {
     "name": "#%%\n"
    }
   },
   "outputs": [],
   "source": [
    "food[1]"
   ]
  },
  {
   "cell_type": "markdown",
   "metadata": {},
   "source": [
    "Each row has a __Results__ column, here we get all the unique values in the column buy using a\n",
    "**set comprehension**\n",
    "\n",
    "Comprehensions are constructs that allow sequences to be built from other sequences and using the set syntax in Python **{}** we remove any duplicates and get distinct values."
   ]
  },
  {
   "cell_type": "code",
   "execution_count": null,
   "metadata": {
    "pycharm": {
     "name": "#%%\n"
    }
   },
   "outputs": [],
   "source": [
    "{row['Results'] for row in food}"
   ]
  },
  {
   "cell_type": "markdown",
   "metadata": {},
   "source": [
    "Let's get all the rows that have failed, we can do this by using a list comprehension. As previously noted comprehensions are constructs that allow sequences to be built from other sequences. Comprehensions can utilize a conditional statement to modify filter existing data. \n",
    "\n",
    "Here we use a conditional statement `if row['Results'] == 'Fail'` to filter the data to get each row where the Results column has a value that equals  __Fail__."
   ]
  },
  {
   "cell_type": "code",
   "execution_count": null,
   "metadata": {
    "pycharm": {
     "name": "#%%\n"
    }
   },
   "outputs": [],
   "source": [
    "fail = [row for row in food if row['Results'] == 'Fail']"
   ]
  },
  {
   "cell_type": "markdown",
   "metadata": {
    "pycharm": {
     "name": "#%% md\n"
    }
   },
   "source": [
    "How many inspection failed?\n",
    "\n",
    "Again using the len function we can check how many items\n",
    "are in the list using the builtin **len()**"
   ]
  },
  {
   "cell_type": "code",
   "execution_count": null,
   "metadata": {
    "pycharm": {
     "name": "#%%\n"
    }
   },
   "outputs": [],
   "source": [
    "len(fail)"
   ]
  },
  {
   "cell_type": "markdown",
   "metadata": {},
   "source": [
    "What are the contents of the first row in our fail list?\n",
    "\n",
    "Note rows may have data subsets, for example the Violations data type is a string of violations separated by a a **|** symbol."
   ]
  },
  {
   "cell_type": "code",
   "execution_count": null,
   "metadata": {
    "pycharm": {
     "name": "#%%\n"
    }
   },
   "outputs": [],
   "source": [
    "fail[0]"
   ]
  },
  {
   "cell_type": "markdown",
   "metadata": {},
   "source": [
    "Using a __Counter__ object we can create a counter which is a Dict subclass.\n",
    "Elements are stored as dictionary keys and their counts are stored as values."
   ]
  },
  {
   "cell_type": "code",
   "execution_count": null,
   "metadata": {
    "pycharm": {
     "name": "#%%\n"
    }
   },
   "outputs": [],
   "source": [
    "worst =  Counter(row['DBA Name'] for row in fail)"
   ]
  },
  {
   "cell_type": "markdown",
   "source": [
    "The Counter class has a **most_common()** function that will list the n most common elements and their counts ordered from the most common to the least. N is an optional key word arg that defauls to **None**. If n is None, then list all element counts\n",
    "\n",
    "What are the names 5 most common fails? The result contains a list of tuples"
   ],
   "metadata": {
    "collapsed": false
   }
  },
  {
   "cell_type": "code",
   "execution_count": null,
   "metadata": {
    "pycharm": {
     "name": "#%%\n"
    }
   },
   "outputs": [],
   "source": [
    "worst.most_common(n=5)"
   ]
  },
  {
   "cell_type": "markdown",
   "source": [
    "What are the names 15 most common fails? \n",
    "\n",
    "As n is in the first position of the args (also the only one), we can just pass a value into the function and not require the key word reference."
   ],
   "metadata": {
    "collapsed": false
   }
  },
  {
   "cell_type": "code",
   "execution_count": null,
   "metadata": {},
   "outputs": [],
   "source": [
    "worst.most_common(15)"
   ]
  },
  {
   "cell_type": "markdown",
   "source": [
    "The data is not very clean and we can see there is variations of the same value for **DBA Name**. There may be whitespace in names, long and/or short versions of names and other grammatically different variations. For example **MCDONALDS** & **MC DONALDS** & **MCDONALD'S** probably represent the same name.  \n",
    "\n",
    "We can attempt to clean the data by converting the text to uppercase and removing all __'__ by using the __replace()__ function and replacing them with an empty string. We then make all characters in the string uppercase, done by using another builtin function **upper()**.\n",
    "\n",
    "The  __replace()__ function is a builtin function and returns a copy of a string with all occurrences of substring **old** replaced by **new**. If the optional argument count is given, only the first count occurrences are replaced.\n",
    "\n",
    "    >>> 'aaa'.replace('a', 'b')\n",
    "    'bbb'\n",
    "    >>> 'aaa'.replace('a', 'b', 2)\n",
    "    'bba'\n",
    "    \n",
    "\n",
    "The **upper()** function is a builtin function and returns a copy of the string converted to uppercase.\n",
    "\n",
    "    >>> 'aaa'.upper()\n",
    "    'AAA'"
   ],
   "metadata": {
    "collapsed": false
   }
  },
  {
   "cell_type": "code",
   "execution_count": null,
   "metadata": {
    "pycharm": {
     "name": "#%%\n"
    }
   },
   "outputs": [],
   "source": [
    "fail = [{ **row, 'DBA Name': row['DBA Name'].replace(\"'\", '').upper()} \n",
    "        for row in fail]"
   ]
  },
  {
   "cell_type": "markdown",
   "metadata": {
    "pycharm": {
     "name": "#%% md\n"
    }
   },
   "source": [
    "Calculate the worst again with the updated version of fail that has the first attempt of cleaning the **DBA Name** and attempting to use a single version of names"
   ]
  },
  {
   "cell_type": "code",
   "metadata": {
    "pycharm": {
     "name": "#%%\n"
    }
   },
   "source": [
    "worst =  Counter(row['DBA Name'] for row in fail)"
   ],
   "execution_count": null,
   "outputs": []
  },
  {
   "cell_type": "markdown",
   "metadata": {
    "pycharm": {
     "name": "#%% md\n"
    }
   },
   "source": [
    "Are they any different after cleaning the **DBA Name** value ?\n",
    "\n",
    "__Note__ the current dataset available is different to the one used in the video this notebook is based on."
   ]
  },
  {
   "cell_type": "code",
   "execution_count": null,
   "outputs": [],
   "source": [
    "worst.most_common(5)"
   ],
   "metadata": {
    "collapsed": false,
    "pycharm": {
     "name": "#%%\n"
    }
   }
  },
  {
   "cell_type": "code",
   "execution_count": null,
   "outputs": [],
   "source": [
    "worst.most_common(15)"
   ],
   "metadata": {
    "collapsed": false,
    "pycharm": {
     "name": "#%%\n"
    }
   }
  },
  {
   "cell_type": "markdown",
   "source": [
    "We can use the Counter class to count how many times each **Address** is in the fail subset of the food dataset."
   ],
   "metadata": {
    "collapsed": false
   }
  },
  {
   "cell_type": "code",
   "execution_count": null,
   "outputs": [],
   "source": [
    "bad =  Counter(row['Address'] for row in fail)"
   ],
   "metadata": {
    "collapsed": false,
    "pycharm": {
     "name": "#%%\n"
    }
   }
  },
  {
   "cell_type": "markdown",
   "source": [
    "The five most common addresses in a list of tuples with address & count"
   ],
   "metadata": {
    "collapsed": false
   }
  },
  {
   "cell_type": "code",
   "execution_count": null,
   "outputs": [],
   "source": [
    "bad.most_common(5)"
   ],
   "metadata": {
    "collapsed": false,
    "pycharm": {
     "name": "#%%\n"
    }
   }
  },
  {
   "cell_type": "markdown",
   "source": [
    "The 15 most common addresses in a list of tuples with address & count"
   ],
   "metadata": {
    "collapsed": false
   }
  },
  {
   "cell_type": "code",
   "execution_count": null,
   "outputs": [],
   "source": [
    "worst.most_common(15)"
   ],
   "metadata": {
    "collapsed": false,
    "pycharm": {
     "name": "#%%\n"
    }
   }
  },
  {
   "cell_type": "markdown",
   "source": [
    "Make a defaultdict using **Counter** where the dict will have keys and values, the valuse will be a counter of keys and values of numbers."
   ],
   "metadata": {
    "collapsed": false
   }
  },
  {
   "cell_type": "code",
   "execution_count": null,
   "metadata": {
    "pycharm": {
     "name": "#%%\n"
    }
   },
   "outputs": [],
   "source": [
    "by_year = defaultdict(Counter)"
   ]
  },
  {
   "cell_type": "markdown",
   "metadata": {
    "pycharm": {
     "name": "#%% md\n"
    }
   },
   "source": [
    "Iterate over dict each item in the fail list using a for loop.\n",
    "\n",
    "Update the by_year dict getting the year of the __'Inspection Date'__. `row['Inspection Date'][-4:]]` creates the year as a string by geting the value of the __'Inspection Date'__. It then gets the last 4 chars of that value string by using a Python approach for getting a subset of a string. Using `[-4:]` which works like `[from:to]` we can take the -4<sup>th</sup> item from the end, to the last, because we don't specify the **to**, it defaults to the last item an alternative would be to use `[-4:-1]`.\n",
    "\n",
    "Each key in the by_year dict will be the distinct years.The year is the key to the count object which is a dict subclass and contains the addresss and counts.\n",
    "\n",
    "We can access nested items in dictionaries by using multiple square bracket notations `my_dict['primary']['nested']`. \n",
    "By using <span style=\"color:blue\">by_year</span><span style=\"color:red\">[row['Inspection Date'][-4:]]</span><span style=\"color:green\">[row['Address']]</span>\n",
    "\n",
    "By using the +=1 operator we are incrementing the current count.\n"
   ]
  },
  {
   "cell_type": "code",
   "execution_count": null,
   "metadata": {},
   "outputs": [],
   "source": [
    "for row in fail:\n",
    "    by_year[row['Inspection Date'][-4:]] [row['Address']] += 1"
   ]
  },
  {
   "cell_type": "markdown",
   "source": [
    "Show the 5 most common addresses that failed for the year 2015 by using the key *2015* and calling the __most_common()__ function on the counter class which is the value for `by_year['2015']`"
   ],
   "metadata": {
    "collapsed": false
   }
  },
  {
   "cell_type": "code",
   "execution_count": null,
   "outputs": [],
   "source": [
    "by_year['2015'].most_common(5)"
   ],
   "metadata": {
    "collapsed": false,
    "pycharm": {
     "name": "#%%\n"
    }
   }
  },
  {
   "cell_type": "markdown",
   "source": [
    "Show the 5 most common addresses that failed for the year 2014 by using the key *2014* and calling the __most_common()__ function on the counter class which is the value for `by_year['2014']`"
   ],
   "metadata": {
    "collapsed": false
   }
  },
  {
   "cell_type": "code",
   "execution_count": null,
   "outputs": [],
   "source": [
    "by_year['2014'].most_common(5)"
   ],
   "metadata": {
    "collapsed": false,
    "pycharm": {
     "name": "#%%\n"
    }
   }
  },
  {
   "cell_type": "markdown",
   "source": [
    "Show the 5 most common addresses that failed for the year 2013 by using the key *2013* and calling the __most_common()__ function on the counter class which is the value for `by_year['2013']`"
   ],
   "metadata": {
    "collapsed": false
   }
  },
  {
   "cell_type": "code",
   "execution_count": null,
   "outputs": [],
   "source": [
    "by_year['2013'].most_common(5)"
   ],
   "metadata": {
    "collapsed": false,
    "pycharm": {
     "name": "#%%\n"
    }
   }
  },
  {
   "cell_type": "markdown",
   "source": [
    "Show the 5 most common addresses that failed for the year 2016 by using the key *2016* and calling the __most_common()__ function on the counter class which is the value for `by_year['2016']`"
   ],
   "metadata": {
    "collapsed": false
   }
  },
  {
   "cell_type": "code",
   "execution_count": null,
   "outputs": [],
   "source": [
    "by_year['2016'].most_common(5)"
   ],
   "metadata": {
    "collapsed": false,
    "pycharm": {
     "name": "#%%\n"
    }
   }
  },
  {
   "cell_type": "markdown",
   "source": [
    "The five most common addresses in a list of tuples with address & count"
   ],
   "metadata": {
    "collapsed": false
   }
  },
  {
   "cell_type": "code",
   "execution_count": null,
   "outputs": [],
   "source": [
    "bad.most_common(5)"
   ],
   "metadata": {
    "collapsed": false,
    "pycharm": {
     "name": "#%%\n"
    }
   }
  },
  {
   "cell_type": "markdown",
   "source": [
    "The *_* variable contains the value of the result of the last block of code executed.\n",
    "\n",
    "The result of the last block is a list of tuples and we can assess their values using the [] notation and an index number. Here we are saying give me the value of the first item in the list and then the value of the first tuple in that list."
   ],
   "metadata": {
    "collapsed": false
   }
  },
  {
   "cell_type": "code",
   "execution_count": null,
   "outputs": [],
   "source": [
    "_[0][0]"
   ],
   "metadata": {
    "collapsed": false,
    "pycharm": {
     "name": "#%%\n"
    }
   }
  },
  {
   "cell_type": "markdown",
   "metadata": {
    "pycharm": {
     "name": "#%% md\n"
    }
   },
   "source": [
    "Using the built in function __id()__ we get the identity of an object. This is guaranteed to be unique among simultaneously existing objects. CPython uses the object's memory address."
   ]
  },
  {
   "cell_type": "code",
   "execution_count": null,
   "outputs": [],
   "source": [
    "id(_)"
   ],
   "metadata": {
    "collapsed": false,
    "pycharm": {
     "name": "#%%\n"
    }
   }
  },
  {
   "cell_type": "markdown",
   "source": [
    "Lets get all the items that failed and have an address at O Hare. We do this by using a list comprehension and filtering for all the __Addresses__ that start with the string *11601 W Touhy*. Python has a builtin function __startswith__  which returns a boolean True if the string starts with the specified prefix, False otherwise.\n",
    "\n",
    "Optional start & end args can be used to test S beginning and ending in their given positions.\n",
    "\n",
    "We are using the startswith because there may be a slight variation in addresses, for example Avenue may be shortned to Ave."
   ],
   "metadata": {
    "collapsed": false
   }
  },
  {
   "cell_type": "code",
   "execution_count": null,
   "outputs": [],
   "source": [
    "ohare = [row for row in fail if row['Address'].startswith('11601 W TOUHY')]"
   ],
   "metadata": {
    "collapsed": false,
    "pycharm": {
     "name": "#%%\n"
    }
   }
  },
  {
   "cell_type": "markdown",
   "metadata": {
    "pycharm": {
     "name": "#%% md\n"
    }
   },
   "source": [
    "Show a set of all the distinct __DBA Name__ that have failed a health inspection in ohare"
   ]
  },
  {
   "cell_type": "code",
   "execution_count": null,
   "metadata": {},
   "outputs": [],
   "source": [
    "{row['DBA Name'] for row in ohare}"
   ]
  },
  {
   "cell_type": "markdown",
   "metadata": {
    "pycharm": {
     "name": "#%% md\n"
    }
   },
   "source": [
    "Show the contents of the first item in ohare"
   ]
  },
  {
   "cell_type": "code",
   "execution_count": null,
   "outputs": [],
   "source": [
    "ohare[0]"
   ],
   "metadata": {
    "collapsed": false,
    "pycharm": {
     "name": "#%%\n"
    }
   }
  },
  {
   "cell_type": "markdown",
   "source": [
    "Each business in ohare has a __DBA Name__ (Doing Business As) and __AKA Name__ (Also Known As).\n",
    "We can identify the worst locations at O Hare to eat by using a Counter object and counting each __AKA Name__."
   ],
   "metadata": {
    "collapsed": false
   }
  },
  {
   "cell_type": "code",
   "execution_count": null,
   "outputs": [],
   "source": [
    "c = Counter(row['AKA Name'] for row in ohare)"
   ],
   "metadata": {
    "collapsed": false,
    "pycharm": {
     "name": "#%%\n"
    }
   }
  },
  {
   "cell_type": "markdown",
   "source": [
    "What are the 10 worst most places to eat in O Hare."
   ],
   "metadata": {
    "collapsed": false,
    "pycharm": {
     "name": "#%% md\n"
    }
   }
  },
  {
   "cell_type": "code",
   "execution_count": null,
   "metadata": {
    "pycharm": {
     "name": "#%%\n"
    }
   },
   "outputs": [],
   "source": [
    "c.most_common(10)"
   ]
  }
 ],
 "metadata": {
  "kernelspec": {
   "display_name": "Python 3",
   "language": "python",
   "name": "python3"
  },
  "language_info": {
   "codemirror_mode": {
    "name": "ipython",
    "version": 3
   },
   "file_extension": ".py",
   "mimetype": "text/x-python",
   "name": "python",
   "nbconvert_exporter": "python",
   "pygments_lexer": "ipython3",
   "version": "3.8.6"
  }
 },
 "nbformat": 4,
 "nbformat_minor": 1
}