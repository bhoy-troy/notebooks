{
 "cells": [
  {
   "cell_type": "markdown",
   "metadata": {
    "pycharm": {
     "name": "#%% md\n"
    }
   },
   "source": [
    "# City of Chicago Data Set\n",
    "\n",
    "### Builtin Superheroes (Screencast)\n",
    "\n",
    "Taken based on David Beazley's [presentation](https://www.youtube.com/watch?v=j6VSAsKAj98)\n",
    "\n",
    "To get the file Food Inspections data file use [wget](https://linux.die.net/man/1/wget)\n",
    "\n",
    "    wget -c https://data.cityofchicago.org/api/views/4ijn-s7e5/rows.csv?accessType=DOWNLOAD -O Food_Inspections.csv\n",
    "\n",
    "or alternatively use [curl](https://linux.die.net/man/1/curl)\n",
    "\n",
    "    curl https://data.cityofchicago.org/api/views/4ijn-s7e5/rows.csv?accessType=DOWNLOAD -o Food_Inspections.csv\n",
    "\n",
    "__Sorry I don't use Windows as an OS so you'll have to figure out getting it yourself for that.__\n",
    "\n",
    "***"
   ]
  },
  {
   "cell_type": "markdown",
   "metadata": {
    "pycharm": {
     "name": "#%% md\n"
    }
   },
   "source": [
    "### Set Up\n",
    "\n",
    "Rather than following the original implementation in the video using basic Python,\n",
    "in this notebook we use [pandas](https://pandas.pydata.org/) to explore the data.\n",
    "\n",
    "##### What is pandas?\n",
    "\n",
    "Pandas is a high-level data manipulation tool, built on the Numpy package and\n",
    "its key data structure is called the DataFrame.\n",
    "\n",
    "It was developed by __Wes McKinney__.\n",
    "\n",
    "##### Whats a dataframe\n",
    "\n",
    "A DataFrame is a 2-dimensional labeled data structure with columns of potentially different types.\n",
    "That allow you to store and manipulate tabular data in rows of observations and columns of variables.\n",
    "\n",
    "##### Import\n",
    "To import the library we use `import pandas`, but to simplify the reuse of the module name, we rename the\n",
    "module by using `as`\n",
    "    \n",
    "    import pandas as pd\n",
    "    \n",
    "\n",
    "##### Loading the data\n",
    "\n",
    "We use the `read_csv` function in pandas to read the csv file. This function takes a total of 48 args,\n",
    "most of which are defaulted, but we can do things like setting the column names, making default values for NA,\n",
    "what the separator is, what the de-limiter is and specifying the cols to use.\n",
    " \n",
    "By passing the file path for the csv we want to open we are saying load this file into memory as a table.\n",
    "\n",
    "Pandas has other alternative ways of loading data like reading Excel files, plain text and reading HTML,\n",
    "and using SQL queries amongst others.\n",
    "\n"
   ]
  },
  {
   "cell_type": "code",
   "execution_count": null,
   "metadata": {
    "pycharm": {
     "name": "#%%\n"
    }
   },
   "outputs": [],
   "source": [
    "import pandas as pd\n",
    "\n",
    "food_df = pd.read_csv(\"Food_Inspections.csv\")"
   ]
  },
  {
   "cell_type": "markdown",
   "metadata": {
    "pycharm": {
     "name": "#%% md\n"
    }
   },
   "source": [
    "How many items in the food list (rows in the dataset)?\n",
    "\n",
    "The **len()** function is a Python builtin function. It returns the number of elements/items in a collection.\n",
    "\n",
    "We could also use the pandas `shape` attribute, which is a tuple containing the number of rows and columns.\n",
    "It could be used like `n_rows, n_cols = food_df.shape` Or get the number of rows by the len of the index `len(food_df.index)`"
   ]
  },
  {
   "cell_type": "code",
   "execution_count": null,
   "metadata": {
    "pycharm": {
     "name": "#%%\n"
    }
   },
   "outputs": [],
   "source": [
    "len(food_df)"
   ]
  },
  {
   "cell_type": "markdown",
   "metadata": {
    "pycharm": {
     "name": "#%% md\n"
    }
   },
   "source": [
    "What are the contents of the first row?\n",
    "\n",
    "We can access the rows and column's in the dataframe by using indices similar to lists,\n",
    "using the `loc`, `iloc` and `ix` properties, which are functions that uses the `@property` decorator\n",
    ".\n",
    "* Dataframe.loc{] : This function is used for labels.\n",
    "* Dataframe.iloc[] : This function is used for positions or integer based\n",
    "\n",
    "They can use a single index which will return a Series or an array of indices which will return a new Dataframe\n",
    "\n",
    "Indexing can also be known as Subset Selection\n",
    "\n",
    "\n",
    "##### Whats a Series?\n",
    "\n",
    "A Series is a Pandas data structure, one-dimensional labeled array capable of holding any data\n",
    "type (integers, strings, floating point numbers, Python objects, etc.). The axis labels are collectively\n",
    "referred to as the index. It is one dimensional, where as a dataframe is 2 dimensional.\n",
    "\n",
    "##### NaN values\n",
    "Some of the values are __NaN__ (NOT a Number), which acts as a placeholder for missing data.\n",
    "This should not be confused with Pythons internal type __None__.\n",
    "Mathematical operations can be performed on nan, they cannon on None.\n",
    "\n",
    "* nan belongs to the class float\n",
    "* None belongs to the class NoneType\n",
    "\n",
    "You can check if a a value is NaN by invoking `isna()` or `isnull()` on the cell in the dataframe,\n",
    "both of which do the same thing according to the pandas docs."
   ]
  },
  {
   "cell_type": "code",
   "execution_count": null,
   "metadata": {
    "pycharm": {
     "name": "#%%\n"
    }
   },
   "outputs": [],
   "source": [
    "food_df.iloc[0]"
   ]
  },
  {
   "cell_type": "markdown",
   "metadata": {
    "pycharm": {
     "name": "#%% md\n"
    }
   },
   "source": [
    "What are the contents of the second row?\n",
    "\n",
    "Again as list Indices start at 0, the n<sup>th</sup> item will be at index n-1"
   ]
  },
  {
   "cell_type": "code",
   "execution_count": null,
   "metadata": {
    "pycharm": {
     "name": "#%%\n"
    }
   },
   "outputs": [],
   "source": [
    "food_df.iloc[1]"
   ]
  },
  {
   "cell_type": "markdown",
   "metadata": {
    "pycharm": {
     "name": "#%% md\n"
    }
   },
   "source": [
    "Each row has a __Results__ column, here we get all the unique values in the column by, first using the column index, this similar to the index in a dictionary, and then invoking the `unique()` function, which returns a numpy array containing the unique values of Series.\n"
   ]
  },
  {
   "cell_type": "code",
   "execution_count": null,
   "metadata": {
    "pycharm": {
     "name": "#%%\n"
    }
   },
   "outputs": [],
   "source": [
    "food_df[\"Results\"].unique()"
   ]
  },
  {
   "cell_type": "markdown",
   "metadata": {
    "pycharm": {
     "name": "#%% md\n"
    }
   },
   "source": [
    "Let's get all the rows that have failed, we can do this by applying some boolean logic on a column in the row,\n",
    "and if the boolean value of the comparison == True then the row is returned as a Series in a new DataFrame.\n",
    "\n",
    "By using the `.copy()` function we create a copy of the original data. This means the can be manipulated and\n",
    "edited rather than just having a view of the data.\n"
   ]
  },
  {
   "cell_type": "code",
   "execution_count": null,
   "metadata": {
    "pycharm": {
     "name": "#%%\n"
    }
   },
   "outputs": [],
   "source": [
    "fail = food_df[food_df.Results == \"Fail\"].copy()"
   ]
  },
  {
   "cell_type": "markdown",
   "metadata": {
    "pycharm": {
     "name": "#%% md\n"
    }
   },
   "source": [
    "How many inspection failed?\n",
    "\n",
    "Again using the len function we can check how many items\n",
    "are in the list using the builtin **len()**"
   ]
  },
  {
   "cell_type": "code",
   "execution_count": null,
   "metadata": {
    "pycharm": {
     "name": "#%%\n"
    }
   },
   "outputs": [],
   "source": [
    "len(fail)"
   ]
  },
  {
   "cell_type": "markdown",
   "metadata": {
    "pycharm": {
     "name": "#%% md\n"
    }
   },
   "source": [
    "What are the contents of the first row in our fail list?\n",
    "\n",
    "Note rows may have data subsets, for example the Violations data type is a string of violations separated by\n",
    "a  **|** (Linux pipe) symbol. Columns with no values are assigned a numpy NaN value by Pandas."
   ]
  },
  {
   "cell_type": "code",
   "execution_count": null,
   "metadata": {
    "pycharm": {
     "name": "#%%\n"
    }
   },
   "outputs": [],
   "source": [
    "fail.iloc[0]"
   ]
  },
  {
   "cell_type": "markdown",
   "metadata": {
    "pycharm": {
     "name": "#%% md\n"
    }
   },
   "source": [
    "Using the `value_counts()` function we can count the number of times each value appears in\n",
    "a column in the dataframe. It returns  a Series containing counts of unique values, in descending order so that\n",
    "the first element is the most frequently-occurring element.\n",
    "\n",
    "\n",
    "__It excludes NA values by default__"
   ]
  },
  {
   "cell_type": "code",
   "execution_count": null,
   "metadata": {
    "pycharm": {
     "name": "#%%\n"
    }
   },
   "outputs": [],
   "source": [
    "worst = fail[\"DBA Name\"].value_counts()\n",
    "worst"
   ]
  },
  {
   "cell_type": "markdown",
   "metadata": {
    "pycharm": {
     "name": "#%% md\n"
    }
   },
   "source": [
    "Because a Series is a list and the `worst` is in descending order by default, we can use Python's list\n",
    "index notation `[from:to]` to get the top n most common."
   ]
  },
  {
   "cell_type": "code",
   "execution_count": null,
   "metadata": {
    "pycharm": {
     "name": "#%%\n"
    }
   },
   "outputs": [],
   "source": [
    "worst[:5]"
   ]
  },
  {
   "cell_type": "markdown",
   "metadata": {
    "pycharm": {
     "name": "#%% md\n"
    }
   },
   "source": [
    "What are the 15 most common fails? \n",
    "\n",
    "An alternative to using the list notation is using the `head()` function. It returns the first n rows based on position."
   ]
  },
  {
   "cell_type": "code",
   "execution_count": null,
   "metadata": {
    "pycharm": {
     "name": "#%%\n"
    }
   },
   "outputs": [],
   "source": [
    "worst.head(15)"
   ]
  },
  {
   "cell_type": "markdown",
   "metadata": {
    "pycharm": {
     "name": "#%% md\n"
    }
   },
   "source": [
    "The data is not very clean and we can see there is variations of the same value for **DBA Name**.\n",
    "There may be whitespace in names, long and/or short versions of names and other\n",
    "grammatically different variations. For example **MCDONALDS** & **MC DONALDS** & **MCDONALD'S** probably\n",
    "represent the same name.\n",
    "\n",
    "We can attempt to clean the data by converting the text to uppercase and removing all __'__ by using the __replace()__\n",
    "function and replacing them with an empty string. We then make all characters in the string uppercase, done by\n",
    "using another builtin function **upper()**.\n",
    "\n",
    "The  __replace()__ function is a builtin function and returns a copy of a string with all occurrences of substring\n",
    "**old** replaced by **new**. If the optional argument count is given, only the first count occurrences are replaced.\n",
    "\n",
    "    >>> 'aaa'.replace('a', 'b')\n",
    "    'bbb'\n",
    "    >>> 'aaa'.replace('a', 'b', 2)\n",
    "    'bba'\n",
    "    \n",
    "\n",
    "The **upper()** function is a builtin function and returns a copy of the string converted to uppercase.\n",
    "\n",
    "    >>> 'aaa'.upper()\n",
    "    'AAA'\n",
    "    \n",
    "We can invoke a function on values of Series/column in the dataframe by using the `apply()` function. This applies\n",
    "the function to each value in the Series.\n",
    "\n",
    "Here we use the Python __lambda__ expression which is shorthand for creating anonymous functions\n",
    "`lambda args : expression`. They can have may args, but only 1 expression.\n",
    "\n",
    "Because apply doesn't have an inplace option, and returns a series, we need to reassign the result to the original column"
   ]
  },
  {
   "cell_type": "code",
   "execution_count": null,
   "metadata": {
    "pycharm": {
     "name": "#%%\n"
    }
   },
   "outputs": [],
   "source": [
    "fail[\"DBA Name\"] = fail[\"DBA Name\"].apply(lambda x: x.replace(\"'\", \"\").upper())"
   ]
  },
  {
   "cell_type": "markdown",
   "metadata": {
    "pycharm": {
     "name": "#%% md\n"
    }
   },
   "source": [
    "Calculate the worst again with the updated version of fail that has the first attempt of cleaning the **DBA Name** and\n",
    "attempting to use a single version of names"
   ]
  },
  {
   "cell_type": "code",
   "execution_count": null,
   "metadata": {
    "pycharm": {
     "name": "#%%\n"
    }
   },
   "outputs": [],
   "source": [
    "worst = fail[\"DBA Name\"].value_counts()\n",
    "worst"
   ]
  },
  {
   "cell_type": "markdown",
   "metadata": {
    "pycharm": {
     "name": "#%% md\n"
    }
   },
   "source": [
    "Are they any different after cleaning the **DBA Name** value ?\n",
    "\n",
    "__Note__ the current dataset available is different to the one used in the video this notebook is based on."
   ]
  },
  {
   "cell_type": "code",
   "execution_count": null,
   "metadata": {
    "pycharm": {
     "name": "#%%\n"
    }
   },
   "outputs": [],
   "source": [
    "worst.head(5)"
   ]
  },
  {
   "cell_type": "code",
   "execution_count": null,
   "metadata": {
    "pycharm": {
     "name": "#%%\n"
    }
   },
   "outputs": [],
   "source": [
    "worst.head(15)"
   ]
  },
  {
   "cell_type": "markdown",
   "metadata": {
    "pycharm": {
     "name": "#%% md\n"
    }
   },
   "source": [
    "We can use the `value_counts()` function again to count how many times each **Address** is in the fail dataframe."
   ]
  },
  {
   "cell_type": "code",
   "execution_count": null,
   "metadata": {
    "pycharm": {
     "name": "#%%\n"
    }
   },
   "outputs": [],
   "source": [
    "bad = fail[\"Address\"].value_counts()\n",
    "bad"
   ]
  },
  {
   "cell_type": "markdown",
   "metadata": {
    "pycharm": {
     "name": "#%% md\n"
    }
   },
   "source": [
    "The five most common addresses in the bad Series"
   ]
  },
  {
   "cell_type": "code",
   "execution_count": null,
   "metadata": {
    "pycharm": {
     "name": "#%%\n"
    }
   },
   "outputs": [],
   "source": [
    "bad.head(5)"
   ]
  },
  {
   "cell_type": "markdown",
   "metadata": {
    "pycharm": {
     "name": "#%% md\n"
    }
   },
   "source": [
    "The 15 most common addresses in the bad Series"
   ]
  },
  {
   "cell_type": "code",
   "execution_count": null,
   "metadata": {
    "pycharm": {
     "name": "#%%\n"
    }
   },
   "outputs": [],
   "source": [
    "worst.head(15)"
   ]
  },
  {
   "cell_type": "markdown",
   "metadata": {
    "pycharm": {
     "name": "#%% md\n"
    }
   },
   "source": [
    "Lets drop the days & months from `Inspection Dates` as we only require the year. This is done by using the apply method\n",
    "to apply a function that returns a slice date, that is the last 4 chars, which is the value of the year."
   ]
  },
  {
   "cell_type": "code",
   "execution_count": null,
   "metadata": {
    "pycharm": {
     "name": "#%%\n"
    }
   },
   "outputs": [],
   "source": [
    "fail[\"Inspection Date\"] = fail[\"Inspection Date\"].apply(lambda x: x[-4:])"
   ]
  },
  {
   "cell_type": "markdown",
   "metadata": {
    "pycharm": {
     "name": "#%% md\n"
    }
   },
   "source": [
    "We can create a `Series` with 2 indexes,  __'Inspection Date'__ & __'Address'__ by using the `Series.group_by` function,\n",
    "then by using the `count` function on the Address column, we count the number of times each unique address is in\n",
    "the fail dataframe.\n",
    "\n",
    "The group-by operation involves some combination of splitting the object, applying a function, and combining the results.\n",
    "This can be used to group large amounts of data and compute operations on these groups.\n"
   ]
  },
  {
   "cell_type": "code",
   "execution_count": null,
   "metadata": {
    "pycharm": {
     "name": "#%%\n"
    }
   },
   "outputs": [],
   "source": [
    "by_year = fail.groupby([\"Inspection Date\", \"Address\"])[\"Address\"].count()"
   ]
  },
  {
   "cell_type": "markdown",
   "metadata": {
    "pycharm": {
     "name": "#%% md\n"
    }
   },
   "source": [
    "Show the 5 most common addresses that failed for the year 2015 by using the key *2015*, then `sort_values` in\n",
    "descending order. Finally by using the head function we can specify the number of items from the top we want,\n",
    "the default is 5."
   ]
  },
  {
   "cell_type": "code",
   "execution_count": null,
   "metadata": {
    "pycharm": {
     "name": "#%%\n"
    }
   },
   "outputs": [],
   "source": [
    "by_year[\"2015\"].sort_values(ascending=False).head()"
   ]
  },
  {
   "cell_type": "markdown",
   "metadata": {
    "pycharm": {
     "name": "#%% md\n"
    }
   },
   "source": [
    "Show the 5 most common addresses that failed for the year 2014 by using the key *2014*, then sort_values in\n",
    "descending order. Finally by using the head function we can specify the number of items from the top we want,\n",
    "the default is 5."
   ]
  },
  {
   "cell_type": "code",
   "execution_count": null,
   "metadata": {
    "pycharm": {
     "name": "#%%\n"
    }
   },
   "outputs": [],
   "source": [
    "by_year[\"2014\"].sort_values(ascending=False).head()"
   ]
  },
  {
   "cell_type": "markdown",
   "metadata": {
    "pycharm": {
     "name": "#%% md\n"
    }
   },
   "source": [
    "Show the 5 most common addresses that failed for the year 2013 by using the key *2013*, then sort_values in\n",
    "descending order. Finally by using the head function we can specify the number of items from the top we want,\n",
    "the default is 5.\n",
    "\n",
    "We can also optionally specify the sorting algorithm required."
   ]
  },
  {
   "cell_type": "code",
   "execution_count": null,
   "metadata": {
    "pycharm": {
     "name": "#%%\n"
    }
   },
   "outputs": [],
   "source": [
    "by_year[\"2013\"].sort_values(ascending=False, kind=\"quicksort\").head(5)"
   ]
  },
  {
   "cell_type": "markdown",
   "metadata": {
    "pycharm": {
     "name": "#%% md\n"
    }
   },
   "source": [
    "Show the 5 most common addresses that failed for the year 2016 by using the key *2016*, then sort_values in\n",
    "descending order. Finally by using the head function we can specify the number of items from the top we want,\n",
    "the default is 5."
   ]
  },
  {
   "cell_type": "code",
   "execution_count": null,
   "metadata": {
    "pycharm": {
     "name": "#%%\n"
    }
   },
   "outputs": [],
   "source": [
    "by_year[\"2016\"].sort_values(ascending=False, kind=\"heapsort\").head()"
   ]
  },
  {
   "cell_type": "markdown",
   "metadata": {
    "pycharm": {
     "name": "#%% md\n"
    }
   },
   "source": [
    "The five most common addresses in the bad Series. Sort in descending order and get the the top 5 by using invoking\n",
    "the  `head()` function."
   ]
  },
  {
   "cell_type": "code",
   "execution_count": null,
   "metadata": {
    "pycharm": {
     "name": "#%%\n"
    }
   },
   "outputs": [],
   "source": [
    "bad.sort_values(ascending=False).head()"
   ]
  },
  {
   "cell_type": "markdown",
   "metadata": {
    "pycharm": {
     "name": "#%% md\n"
    }
   },
   "source": [
    "Whats the address that is most common in the failed premises. We do this by getting the most common by invoking the\n",
    "the `head(1)` function with 1 as an arg, after first sorting the valuse in descending order. We can then get the index\n",
    "because the value of the address is the actual index for the Series."
   ]
  },
  {
   "cell_type": "code",
   "execution_count": null,
   "metadata": {
    "pycharm": {
     "name": "#%%\n"
    }
   },
   "outputs": [],
   "source": [
    "bad.sort_values(ascending=False).head(1).index[0]"
   ]
  },
  {
   "cell_type": "markdown",
   "metadata": {
    "pycharm": {
     "name": "#%% md\n"
    }
   },
   "source": [
    "Lets get all the items that failed and have an address at O Hare. We do this by comparing all the string values in\n",
    "the Address column to see if they start with a substring of the value of the address that appears most in the bad\n",
    "dataframe.\n",
    "\n",
    "Create a copy so we can change the data."
   ]
  },
  {
   "cell_type": "code",
   "execution_count": null,
   "metadata": {
    "pycharm": {
     "name": "#%%\n"
    }
   },
   "outputs": [],
   "source": [
    "ohare = fail.loc[fail.Address.str.startswith(\"11601 W TOUHY\", na=False)].copy()"
   ]
  },
  {
   "cell_type": "markdown",
   "metadata": {
    "pycharm": {
     "name": "#%% md\n"
    }
   },
   "source": [
    "Show all the distinct __DBA Name__ that have failed a health inspection in ohare. We do this by using the [] notation\n",
    "to get the column __DBA Name__ as a pandas Series. We can then use the function `.unique()` which returns the unique\n",
    "values in the series as a `numpy.ndarray`"
   ]
  },
  {
   "cell_type": "code",
   "execution_count": null,
   "metadata": {
    "pycharm": {
     "name": "#%%\n"
    }
   },
   "outputs": [],
   "source": [
    "ohare[\"DBA Name\"].unique()"
   ]
  },
  {
   "cell_type": "markdown",
   "metadata": {
    "pycharm": {
     "name": "#%% md\n"
    }
   },
   "source": [
    "Show the contents of the first item in ohare, we can do this multiple ways, depending on he type of data structure\n",
    " required.\n",
    "\n",
    "* ohare[:1], this is a type pandas.core.frame.DataFrame\n",
    "* ohare.iloc[0], this is a type pandas.core.series.Series\n",
    "* ohare.head(1), this is a type pandas.core.frame.DataFrame"
   ]
  },
  {
   "cell_type": "code",
   "execution_count": null,
   "metadata": {
    "pycharm": {
     "name": "#%%\n"
    },
    "scrolled": true
   },
   "outputs": [],
   "source": [
    "ohare.iloc[0]"
   ]
  },
  {
   "cell_type": "markdown",
   "metadata": {
    "pycharm": {
     "name": "#%% md\n"
    }
   },
   "source": [
    "Each business in ohare has a __DBA Name__ (Doing Business As) and __AKA Name__ (Also Known As).\n",
    "We can identify the worst locations at O Hare to eat by using the `groupby` function again, and counting\n",
    "the values in __AKA Name__."
   ]
  },
  {
   "cell_type": "code",
   "execution_count": null,
   "metadata": {
    "pycharm": {
     "name": "#%%\n"
    }
   },
   "outputs": [],
   "source": [
    "c = ohare.groupby([\"AKA Name\"])[\"AKA Name\"].count()"
   ]
  },
  {
   "cell_type": "markdown",
   "metadata": {
    "pycharm": {
     "name": "#%% md\n"
    }
   },
   "source": [
    "What are the 10 worst most places to eat in O Hare. Sort the values ascending, then get the first 10 rows by using\n",
    "the `head()` function"
   ]
  },
  {
   "cell_type": "code",
   "execution_count": null,
   "metadata": {
    "pycharm": {
     "name": "#%%\n"
    }
   },
   "outputs": [],
   "source": [
    "c.sort_values(ascending=False).head(10)"
   ]
  },
  {
   "cell_type": "markdown",
   "metadata": {
    "pycharm": {
     "name": "#%% md\n"
    }
   },
   "source": [
    "We can group all the rows in the ohare by the  __Licence #__ column. This create a Series with the __Licence #__ as\n",
    "the key and the row as the value.\n",
    "\n",
    "This automatically converts the string value from __Licence #__ to numeric value."
   ]
  },
  {
   "cell_type": "code",
   "execution_count": null,
   "metadata": {
    "pycharm": {
     "name": "#%%\n"
    }
   },
   "outputs": [],
   "source": [
    "inspections = ohare.groupby(\"License #\")"
   ]
  },
  {
   "cell_type": "markdown",
   "metadata": {
    "pycharm": {
     "name": "#%% md\n"
    }
   },
   "source": [
    "Show all the indices/keys in the inspections Series."
   ]
  },
  {
   "cell_type": "code",
   "execution_count": null,
   "metadata": {
    "pycharm": {
     "name": "#%%\n"
    }
   },
   "outputs": [],
   "source": [
    "inspections.groups.keys()"
   ]
  },
  {
   "cell_type": "markdown",
   "metadata": {},
   "source": [
    "Get the inspections per `Licence #`, because the key is numeric we can use an integer or floating point value.\n",
    "\n",
    "The `get_group()` function creates a DataFrame from a group.\n",
    "\n",
    "The key `2308566.0` can be used as well as  `2308566`."
   ]
  },
  {
   "cell_type": "code",
   "execution_count": null,
   "metadata": {
    "pycharm": {
     "name": "#%%\n"
    }
   },
   "outputs": [],
   "source": [
    "inspections.get_group(2308566.0)"
   ]
  },
  {
   "cell_type": "markdown",
   "metadata": {
    "pycharm": {
     "name": "#%% md\n"
    }
   },
   "source": [
    "Sample using integer value for the key"
   ]
  },
  {
   "cell_type": "code",
   "execution_count": null,
   "metadata": {
    "pycharm": {
     "name": "#%%\n"
    }
   },
   "outputs": [],
   "source": [
    "inspections.get_group(34192)"
   ]
  },
  {
   "cell_type": "markdown",
   "metadata": {},
   "source": [
    "Show the inspection dates for a given `Inspection #`. By using the `get_group` function a new dataframe is created.\n",
    "\n",
    "If you require a list we could use `inspections.get_group(34192)[\"Inspection Date\"].tolist()`"
   ]
  },
  {
   "cell_type": "code",
   "execution_count": null,
   "metadata": {
    "pycharm": {
     "name": "#%%\n"
    }
   },
   "outputs": [],
   "source": [
    "inspections.get_group(34192)[\"Inspection Date\"]"
   ]
  },
  {
   "cell_type": "markdown",
   "metadata": {},
   "source": [
    "Most common way a place in ohare fails an inspection.\n",
    "\n",
    "Create a new DataFrame from a list. The list is generated by taking the Violations value and splitting it at the __|__ symbol."
   ]
  },
  {
   "cell_type": "code",
   "execution_count": null,
   "metadata": {
    "pycharm": {
     "name": "#%%\n"
    }
   },
   "outputs": [],
   "source": [
    "pd.DataFrame(ohare.iloc[1][\"Violations\"].split(\"|\"), columns=[\"Violations\"])"
   ]
  },
  {
   "cell_type": "markdown",
   "metadata": {},
   "source": [
    "The _ variable contains the value of the result of the last block of code executed. \n",
    "Assign the last DataFrame that was created to the violations variable."
   ]
  },
  {
   "cell_type": "code",
   "execution_count": null,
   "metadata": {
    "pycharm": {
     "name": "#%%\n"
    }
   },
   "outputs": [],
   "source": [
    "violations = _\n",
    "violations"
   ]
  },
  {
   "cell_type": "code",
   "execution_count": null,
   "metadata": {
    "pycharm": {
     "name": "#%%\n"
    }
   },
   "outputs": [],
   "source": [
    "violations[\"Violations\"].apply(lambda x: x[: x.find(\"- Comments:\")])"
   ]
  },
  {
   "cell_type": "markdown",
   "metadata": {
    "pycharm": {
     "name": "#%% md\n"
    }
   },
   "source": [
    "Remove the comments from each of the `Violations`. \n",
    "\n",
    "This is done by again invoking a function on each violation. \n",
    "First we get to index position of the start of the string __\"- Comments:\"__,  then get a substring of the violation\n",
    "itself. Because Python strings are a list of chars we can use the list index notation `[from:to]` to get a substring\n",
    "by index position.\n",
    "What we are saying here is for each Violation value, get the index where the comments start and create a substring from\n",
    "the start of the Violation value upto the index where the comments start, then strip any white space, and apply the\n",
    "result as a new value for the Violation.\n",
    "\n",
    "This does not persist the result in the dataframe, it just changes the Series that is returned from using `.apply()`"
   ]
  },
  {
   "cell_type": "code",
   "execution_count": null,
   "metadata": {
    "pycharm": {
     "name": "#%%\n"
    }
   },
   "outputs": [],
   "source": [
    "violations[\"Violations\"].apply(lambda x: x[: x.find(\"- Comments:\")].strip())"
   ]
  },
  {
   "cell_type": "markdown",
   "metadata": {
    "pycharm": {
     "name": "#%% md\n"
    }
   },
   "source": [
    "Creat a new DataFrame `all_violations` which contains all the Violations in the ohare dataframe.\n",
    "\n",
    "Using a list comprehension, which mimics using a **nested for loop** we get each violation and then split that\n",
    "result at the __|__ symbol, which results in list. We then loop over that list and strip any white space.\n",
    "\n",
    "The resulting `_all_violations` is a flat list of all the violations and subset of violations in `ohare[\"Violations\"]`\n",
    "\n",
    "We can use the `_all_violations` variable to create a new dataframe that contains all the violations in the ohare DataFrame"
   ]
  },
  {
   "cell_type": "code",
   "execution_count": null,
   "metadata": {
    "pycharm": {
     "name": "#%%\n"
    }
   },
   "outputs": [],
   "source": [
    "_all_violations = [\n",
    "    violation.strip()\n",
    "    for v_sublist in ohare[\"Violations\"]\n",
    "    for violation in str(v_sublist).split(\"|\")\n",
    "]\n",
    "all_violations = pd.DataFrame(_all_violations, columns=[\"Violations\"])"
   ]
  },
  {
   "cell_type": "markdown",
   "metadata": {
    "pycharm": {
     "name": "#%% md\n"
    }
   },
   "source": [
    "Again using the previous method of getting a substring of the violation with the comments removed, we can persist this\n",
    "by assigning the resulting Series to the DataFrame column `all_violations[\"Violations\"]`"
   ]
  },
  {
   "cell_type": "code",
   "execution_count": null,
   "metadata": {
    "pycharm": {
     "name": "#%%\n"
    }
   },
   "outputs": [],
   "source": [
    "all_violations[\"Violations\"] = all_violations[\"Violations\"].apply(\n",
    "    lambda x: x[: x.find(\"- Comments:\")].strip()\n",
    ")"
   ]
  },
  {
   "cell_type": "markdown",
   "metadata": {},
   "source": [
    "What are the top 5 violations in all of ohare?"
   ]
  },
  {
   "cell_type": "code",
   "execution_count": null,
   "metadata": {
    "pycharm": {
     "name": "#%%\n"
    }
   },
   "outputs": [],
   "source": [
    "all_violations[\"Violations\"].value_counts().head()"
   ]
  }
 ],
 "metadata": {
  "kernelspec": {
   "display_name": "Python 3",
   "language": "python",
   "name": "python3"
  },
  "language_info": {
   "codemirror_mode": {
    "name": "ipython",
    "version": 3
   },
   "file_extension": ".py",
   "mimetype": "text/x-python",
   "name": "python",
   "nbconvert_exporter": "python",
   "pygments_lexer": "ipython3",
   "version": "3.8.6"
  }
 },
 "nbformat": 4,
 "nbformat_minor": 1
}